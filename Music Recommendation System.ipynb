{
 "cells": [
  {
   "cell_type": "markdown",
   "id": "50d06427-bfa6-4bd8-9e61-bb156cebdacc",
   "metadata": {},
   "source": [
    "## Music Recommendation Systems"
   ]
  },
  {
   "cell_type": "code",
   "execution_count": 130,
   "id": "310e310c-5c6d-4761-a7df-5af3fd6e422e",
   "metadata": {},
   "outputs": [],
   "source": [
    "# utilities \n",
    "import pandas as pd\n",
    "import numpy as np"
   ]
  },
  {
   "cell_type": "code",
   "execution_count": 131,
   "id": "59bcd0cf-d5b6-47d8-a30b-66dcdde1051b",
   "metadata": {},
   "outputs": [],
   "source": [
    "music_df = pd.read_csv(\"spotify_millsongdata.csv\")"
   ]
  },
  {
   "cell_type": "code",
   "execution_count": 132,
   "id": "346d964d-ada7-43f0-b281-45fb282d0d89",
   "metadata": {},
   "outputs": [
    {
     "data": {
      "text/html": [
       "<div>\n",
       "<style scoped>\n",
       "    .dataframe tbody tr th:only-of-type {\n",
       "        vertical-align: middle;\n",
       "    }\n",
       "\n",
       "    .dataframe tbody tr th {\n",
       "        vertical-align: top;\n",
       "    }\n",
       "\n",
       "    .dataframe thead th {\n",
       "        text-align: right;\n",
       "    }\n",
       "</style>\n",
       "<table border=\"1\" class=\"dataframe\">\n",
       "  <thead>\n",
       "    <tr style=\"text-align: right;\">\n",
       "      <th></th>\n",
       "      <th>artist</th>\n",
       "      <th>song</th>\n",
       "      <th>link</th>\n",
       "      <th>text</th>\n",
       "    </tr>\n",
       "  </thead>\n",
       "  <tbody>\n",
       "    <tr>\n",
       "      <th>0</th>\n",
       "      <td>ABBA</td>\n",
       "      <td>Ahe's My Kind Of Girl</td>\n",
       "      <td>/a/abba/ahes+my+kind+of+girl_20598417.html</td>\n",
       "      <td>Look at her face, it's a wonderful face  \\r\\nA...</td>\n",
       "    </tr>\n",
       "    <tr>\n",
       "      <th>1</th>\n",
       "      <td>ABBA</td>\n",
       "      <td>Andante, Andante</td>\n",
       "      <td>/a/abba/andante+andante_20002708.html</td>\n",
       "      <td>Take it easy with me, please  \\r\\nTouch me gen...</td>\n",
       "    </tr>\n",
       "    <tr>\n",
       "      <th>2</th>\n",
       "      <td>ABBA</td>\n",
       "      <td>As Good As New</td>\n",
       "      <td>/a/abba/as+good+as+new_20003033.html</td>\n",
       "      <td>I'll never know why I had to go  \\r\\nWhy I had...</td>\n",
       "    </tr>\n",
       "    <tr>\n",
       "      <th>3</th>\n",
       "      <td>ABBA</td>\n",
       "      <td>Bang</td>\n",
       "      <td>/a/abba/bang_20598415.html</td>\n",
       "      <td>Making somebody happy is a question of give an...</td>\n",
       "    </tr>\n",
       "    <tr>\n",
       "      <th>4</th>\n",
       "      <td>ABBA</td>\n",
       "      <td>Bang-A-Boomerang</td>\n",
       "      <td>/a/abba/bang+a+boomerang_20002668.html</td>\n",
       "      <td>Making somebody happy is a question of give an...</td>\n",
       "    </tr>\n",
       "    <tr>\n",
       "      <th>5</th>\n",
       "      <td>ABBA</td>\n",
       "      <td>Burning My Bridges</td>\n",
       "      <td>/a/abba/burning+my+bridges_20003011.html</td>\n",
       "      <td>Well, you hoot and you holler and you make me ...</td>\n",
       "    </tr>\n",
       "    <tr>\n",
       "      <th>6</th>\n",
       "      <td>ABBA</td>\n",
       "      <td>Cassandra</td>\n",
       "      <td>/a/abba/cassandra_20002811.html</td>\n",
       "      <td>Down in the street they're all singing and sho...</td>\n",
       "    </tr>\n",
       "    <tr>\n",
       "      <th>7</th>\n",
       "      <td>ABBA</td>\n",
       "      <td>Chiquitita</td>\n",
       "      <td>/a/abba/chiquitita_20002978.html</td>\n",
       "      <td>Chiquitita, tell me what's wrong  \\r\\nYou're e...</td>\n",
       "    </tr>\n",
       "    <tr>\n",
       "      <th>8</th>\n",
       "      <td>ABBA</td>\n",
       "      <td>Crazy World</td>\n",
       "      <td>/a/abba/crazy+world_20003013.html</td>\n",
       "      <td>I was out with the morning sun  \\r\\nCouldn't s...</td>\n",
       "    </tr>\n",
       "    <tr>\n",
       "      <th>9</th>\n",
       "      <td>ABBA</td>\n",
       "      <td>Crying Over You</td>\n",
       "      <td>/a/abba/crying+over+you_20177611.html</td>\n",
       "      <td>I'm waitin' for you baby  \\r\\nI'm sitting all ...</td>\n",
       "    </tr>\n",
       "  </tbody>\n",
       "</table>\n",
       "</div>"
      ],
      "text/plain": [
       "  artist                   song                                        link  \\\n",
       "0   ABBA  Ahe's My Kind Of Girl  /a/abba/ahes+my+kind+of+girl_20598417.html   \n",
       "1   ABBA       Andante, Andante       /a/abba/andante+andante_20002708.html   \n",
       "2   ABBA         As Good As New        /a/abba/as+good+as+new_20003033.html   \n",
       "3   ABBA                   Bang                  /a/abba/bang_20598415.html   \n",
       "4   ABBA       Bang-A-Boomerang      /a/abba/bang+a+boomerang_20002668.html   \n",
       "5   ABBA     Burning My Bridges    /a/abba/burning+my+bridges_20003011.html   \n",
       "6   ABBA              Cassandra             /a/abba/cassandra_20002811.html   \n",
       "7   ABBA             Chiquitita            /a/abba/chiquitita_20002978.html   \n",
       "8   ABBA            Crazy World           /a/abba/crazy+world_20003013.html   \n",
       "9   ABBA        Crying Over You       /a/abba/crying+over+you_20177611.html   \n",
       "\n",
       "                                                text  \n",
       "0  Look at her face, it's a wonderful face  \\r\\nA...  \n",
       "1  Take it easy with me, please  \\r\\nTouch me gen...  \n",
       "2  I'll never know why I had to go  \\r\\nWhy I had...  \n",
       "3  Making somebody happy is a question of give an...  \n",
       "4  Making somebody happy is a question of give an...  \n",
       "5  Well, you hoot and you holler and you make me ...  \n",
       "6  Down in the street they're all singing and sho...  \n",
       "7  Chiquitita, tell me what's wrong  \\r\\nYou're e...  \n",
       "8  I was out with the morning sun  \\r\\nCouldn't s...  \n",
       "9  I'm waitin' for you baby  \\r\\nI'm sitting all ...  "
      ]
     },
     "execution_count": 132,
     "metadata": {},
     "output_type": "execute_result"
    }
   ],
   "source": [
    "# seeing top 10 rows of data\n",
    "music_df.head(10)"
   ]
  },
  {
   "cell_type": "code",
   "execution_count": 133,
   "id": "1c5167dd-e04b-40fc-81f7-63c5769ceed5",
   "metadata": {},
   "outputs": [
    {
     "data": {
      "text/plain": [
       "(57650, 4)"
      ]
     },
     "execution_count": 133,
     "metadata": {},
     "output_type": "execute_result"
    }
   ],
   "source": [
    "# check size of data\n",
    "music_df.shape"
   ]
  },
  {
   "cell_type": "code",
   "execution_count": 134,
   "id": "c1831b9e-7a4a-4abf-af4a-cc3ff265619c",
   "metadata": {},
   "outputs": [
    {
     "data": {
      "text/html": [
       "<div>\n",
       "<style scoped>\n",
       "    .dataframe tbody tr th:only-of-type {\n",
       "        vertical-align: middle;\n",
       "    }\n",
       "\n",
       "    .dataframe tbody tr th {\n",
       "        vertical-align: top;\n",
       "    }\n",
       "\n",
       "    .dataframe thead th {\n",
       "        text-align: right;\n",
       "    }\n",
       "</style>\n",
       "<table border=\"1\" class=\"dataframe\">\n",
       "  <thead>\n",
       "    <tr style=\"text-align: right;\">\n",
       "      <th></th>\n",
       "      <th>artist</th>\n",
       "      <th>song</th>\n",
       "      <th>link</th>\n",
       "      <th>text</th>\n",
       "    </tr>\n",
       "  </thead>\n",
       "  <tbody>\n",
       "    <tr>\n",
       "      <th>57640</th>\n",
       "      <td>Zebrahead</td>\n",
       "      <td>The Setup</td>\n",
       "      <td>/z/zebrahead/the+setup_10198494.html</td>\n",
       "      <td>Lie to me  \\r\\nTell me that everything will be...</td>\n",
       "    </tr>\n",
       "    <tr>\n",
       "      <th>57641</th>\n",
       "      <td>Ziggy Marley</td>\n",
       "      <td>Freedom Road</td>\n",
       "      <td>/z/ziggy+marley/freedom+road_20531174.html</td>\n",
       "      <td>That's why I'm marching, yes, I'm marching,  \\...</td>\n",
       "    </tr>\n",
       "    <tr>\n",
       "      <th>57642</th>\n",
       "      <td>Ziggy Marley</td>\n",
       "      <td>Friend</td>\n",
       "      <td>/z/ziggy+marley/friend_20673508.html</td>\n",
       "      <td>[Chorus]  \\r\\nI wanna thank you for the things...</td>\n",
       "    </tr>\n",
       "    <tr>\n",
       "      <th>57643</th>\n",
       "      <td>Ziggy Marley</td>\n",
       "      <td>G7</td>\n",
       "      <td>/z/ziggy+marley/g7_20531173.html</td>\n",
       "      <td>Seven richest countries in the world  \\r\\nThem...</td>\n",
       "    </tr>\n",
       "    <tr>\n",
       "      <th>57644</th>\n",
       "      <td>Ziggy Marley</td>\n",
       "      <td>Generation</td>\n",
       "      <td>/z/ziggy+marley/generation_20531171.html</td>\n",
       "      <td>Many generation have passed away  \\r\\nFighting...</td>\n",
       "    </tr>\n",
       "    <tr>\n",
       "      <th>57645</th>\n",
       "      <td>Ziggy Marley</td>\n",
       "      <td>Good Old Days</td>\n",
       "      <td>/z/ziggy+marley/good+old+days_10198588.html</td>\n",
       "      <td>Irie days come on play  \\r\\nLet the angels fly...</td>\n",
       "    </tr>\n",
       "    <tr>\n",
       "      <th>57646</th>\n",
       "      <td>Ziggy Marley</td>\n",
       "      <td>Hand To Mouth</td>\n",
       "      <td>/z/ziggy+marley/hand+to+mouth_20531167.html</td>\n",
       "      <td>Power to the workers  \\r\\nMore power  \\r\\nPowe...</td>\n",
       "    </tr>\n",
       "    <tr>\n",
       "      <th>57647</th>\n",
       "      <td>Zwan</td>\n",
       "      <td>Come With Me</td>\n",
       "      <td>/z/zwan/come+with+me_20148981.html</td>\n",
       "      <td>all you need  \\r\\nis something i'll believe  \\...</td>\n",
       "    </tr>\n",
       "    <tr>\n",
       "      <th>57648</th>\n",
       "      <td>Zwan</td>\n",
       "      <td>Desire</td>\n",
       "      <td>/z/zwan/desire_20148986.html</td>\n",
       "      <td>northern star  \\r\\nam i frightened  \\r\\nwhere ...</td>\n",
       "    </tr>\n",
       "    <tr>\n",
       "      <th>57649</th>\n",
       "      <td>Zwan</td>\n",
       "      <td>Heartsong</td>\n",
       "      <td>/z/zwan/heartsong_20148991.html</td>\n",
       "      <td>come in  \\r\\nmake yourself at home  \\r\\ni'm a ...</td>\n",
       "    </tr>\n",
       "  </tbody>\n",
       "</table>\n",
       "</div>"
      ],
      "text/plain": [
       "             artist           song  \\\n",
       "57640     Zebrahead      The Setup   \n",
       "57641  Ziggy Marley   Freedom Road   \n",
       "57642  Ziggy Marley         Friend   \n",
       "57643  Ziggy Marley             G7   \n",
       "57644  Ziggy Marley     Generation   \n",
       "57645  Ziggy Marley  Good Old Days   \n",
       "57646  Ziggy Marley  Hand To Mouth   \n",
       "57647          Zwan   Come With Me   \n",
       "57648          Zwan         Desire   \n",
       "57649          Zwan      Heartsong   \n",
       "\n",
       "                                              link  \\\n",
       "57640         /z/zebrahead/the+setup_10198494.html   \n",
       "57641   /z/ziggy+marley/freedom+road_20531174.html   \n",
       "57642         /z/ziggy+marley/friend_20673508.html   \n",
       "57643             /z/ziggy+marley/g7_20531173.html   \n",
       "57644     /z/ziggy+marley/generation_20531171.html   \n",
       "57645  /z/ziggy+marley/good+old+days_10198588.html   \n",
       "57646  /z/ziggy+marley/hand+to+mouth_20531167.html   \n",
       "57647           /z/zwan/come+with+me_20148981.html   \n",
       "57648                 /z/zwan/desire_20148986.html   \n",
       "57649              /z/zwan/heartsong_20148991.html   \n",
       "\n",
       "                                                    text  \n",
       "57640  Lie to me  \\r\\nTell me that everything will be...  \n",
       "57641  That's why I'm marching, yes, I'm marching,  \\...  \n",
       "57642  [Chorus]  \\r\\nI wanna thank you for the things...  \n",
       "57643  Seven richest countries in the world  \\r\\nThem...  \n",
       "57644  Many generation have passed away  \\r\\nFighting...  \n",
       "57645  Irie days come on play  \\r\\nLet the angels fly...  \n",
       "57646  Power to the workers  \\r\\nMore power  \\r\\nPowe...  \n",
       "57647  all you need  \\r\\nis something i'll believe  \\...  \n",
       "57648  northern star  \\r\\nam i frightened  \\r\\nwhere ...  \n",
       "57649  come in  \\r\\nmake yourself at home  \\r\\ni'm a ...  "
      ]
     },
     "execution_count": 134,
     "metadata": {},
     "output_type": "execute_result"
    }
   ],
   "source": [
    "# check last 10 rows\n",
    "music_df.tail(10)"
   ]
  },
  {
   "cell_type": "code",
   "execution_count": 135,
   "id": "c4532df0-f2ed-4b09-897d-77346366e6c9",
   "metadata": {},
   "outputs": [
    {
     "data": {
      "text/plain": [
       "artist    0\n",
       "song      0\n",
       "link      0\n",
       "text      0\n",
       "dtype: int64"
      ]
     },
     "execution_count": 135,
     "metadata": {},
     "output_type": "execute_result"
    }
   ],
   "source": [
    "# check for null values in dataset\n",
    "music_df.isnull().sum()"
   ]
  },
  {
   "cell_type": "code",
   "execution_count": 136,
   "id": "588de95e-404c-4b19-8e2b-f0855656e38b",
   "metadata": {},
   "outputs": [],
   "source": [
    "# drop link column\n",
    "music_df = music_df.sample(3000).drop('link', axis = 1).reset_index(drop = True)"
   ]
  },
  {
   "cell_type": "code",
   "execution_count": 137,
   "id": "e73a738a-bad5-4304-bc1a-3e7564a20e9b",
   "metadata": {},
   "outputs": [
    {
     "data": {
      "text/html": [
       "<div>\n",
       "<style scoped>\n",
       "    .dataframe tbody tr th:only-of-type {\n",
       "        vertical-align: middle;\n",
       "    }\n",
       "\n",
       "    .dataframe tbody tr th {\n",
       "        vertical-align: top;\n",
       "    }\n",
       "\n",
       "    .dataframe thead th {\n",
       "        text-align: right;\n",
       "    }\n",
       "</style>\n",
       "<table border=\"1\" class=\"dataframe\">\n",
       "  <thead>\n",
       "    <tr style=\"text-align: right;\">\n",
       "      <th></th>\n",
       "      <th>artist</th>\n",
       "      <th>song</th>\n",
       "      <th>text</th>\n",
       "    </tr>\n",
       "  </thead>\n",
       "  <tbody>\n",
       "    <tr>\n",
       "      <th>0</th>\n",
       "      <td>Allman Brothers Band</td>\n",
       "      <td>Crazy Love</td>\n",
       "      <td>Somewhere down on a back street  \\r\\nWay down ...</td>\n",
       "    </tr>\n",
       "    <tr>\n",
       "      <th>1</th>\n",
       "      <td>Heart</td>\n",
       "      <td>Strong, Strong Wind</td>\n",
       "      <td>We walked away before, there were too many sto...</td>\n",
       "    </tr>\n",
       "    <tr>\n",
       "      <th>2</th>\n",
       "      <td>David Guetta</td>\n",
       "      <td>One Voice</td>\n",
       "      <td>One light for direction  \\r\\nThrough the valle...</td>\n",
       "    </tr>\n",
       "    <tr>\n",
       "      <th>3</th>\n",
       "      <td>Bonnie Raitt</td>\n",
       "      <td>No Gettin' Over You</td>\n",
       "      <td>One two, one two three  \\r\\nWell, I went and g...</td>\n",
       "    </tr>\n",
       "    <tr>\n",
       "      <th>4</th>\n",
       "      <td>Randy Travis</td>\n",
       "      <td>Gonna Walk That Line</td>\n",
       "      <td>I never been too good at doing right  \\r\\nDone...</td>\n",
       "    </tr>\n",
       "    <tr>\n",
       "      <th>5</th>\n",
       "      <td>John Legend</td>\n",
       "      <td>Stay With You</td>\n",
       "      <td>We've been together for a while now  \\r\\nWe're...</td>\n",
       "    </tr>\n",
       "    <tr>\n",
       "      <th>6</th>\n",
       "      <td>Nina Simone</td>\n",
       "      <td>I Put A Spell On You</td>\n",
       "      <td>By Jay Hawkins  \\r\\nPerformed by Marilyn Manso...</td>\n",
       "    </tr>\n",
       "    <tr>\n",
       "      <th>7</th>\n",
       "      <td>Cake</td>\n",
       "      <td>The Winter</td>\n",
       "      <td>The winter's chill chilled me to the bone this...</td>\n",
       "    </tr>\n",
       "    <tr>\n",
       "      <th>8</th>\n",
       "      <td>Westlife</td>\n",
       "      <td>Miss You Nights</td>\n",
       "      <td>[Shane:]  \\r\\nI've had many times I can tell y...</td>\n",
       "    </tr>\n",
       "    <tr>\n",
       "      <th>9</th>\n",
       "      <td>Westlife</td>\n",
       "      <td>I Won't Let You Down</td>\n",
       "      <td>Bryan:  \\r\\nYour life's hard enough  \\r\\nAnd y...</td>\n",
       "    </tr>\n",
       "  </tbody>\n",
       "</table>\n",
       "</div>"
      ],
      "text/plain": [
       "                 artist                  song  \\\n",
       "0  Allman Brothers Band            Crazy Love   \n",
       "1                 Heart   Strong, Strong Wind   \n",
       "2          David Guetta             One Voice   \n",
       "3          Bonnie Raitt   No Gettin' Over You   \n",
       "4          Randy Travis  Gonna Walk That Line   \n",
       "5           John Legend         Stay With You   \n",
       "6           Nina Simone  I Put A Spell On You   \n",
       "7                  Cake            The Winter   \n",
       "8              Westlife       Miss You Nights   \n",
       "9              Westlife  I Won't Let You Down   \n",
       "\n",
       "                                                text  \n",
       "0  Somewhere down on a back street  \\r\\nWay down ...  \n",
       "1  We walked away before, there were too many sto...  \n",
       "2  One light for direction  \\r\\nThrough the valle...  \n",
       "3  One two, one two three  \\r\\nWell, I went and g...  \n",
       "4  I never been too good at doing right  \\r\\nDone...  \n",
       "5  We've been together for a while now  \\r\\nWe're...  \n",
       "6  By Jay Hawkins  \\r\\nPerformed by Marilyn Manso...  \n",
       "7  The winter's chill chilled me to the bone this...  \n",
       "8  [Shane:]  \\r\\nI've had many times I can tell y...  \n",
       "9  Bryan:  \\r\\nYour life's hard enough  \\r\\nAnd y...  "
      ]
     },
     "execution_count": 137,
     "metadata": {},
     "output_type": "execute_result"
    }
   ],
   "source": [
    "music_df.head(10)"
   ]
  },
  {
   "cell_type": "code",
   "execution_count": 138,
   "id": "58e3293e-5c35-45b5-9332-f1f02f7cc051",
   "metadata": {},
   "outputs": [
    {
     "data": {
      "text/plain": [
       "\"Somewhere down on a back street  \\r\\nWay down deep in the back seat  \\r\\nIs where I first learned how to moan your name  \\r\\nI remember on the night I met you  \\r\\nOoh, sweet baby, I just can't forget you  \\r\\nAnd I can't stop thinkin' about your crazy love  \\r\\n  \\r\\nCrazy love, crazy love  \\r\\nI love you baby  \\r\\nBut your too bad to tame  \\r\\nCrazy love, crazy love  \\r\\nYou got it all  \\r\\n  \\r\\nLaid up here lookin' at my shoes  \\r\\nStretched out with these hotel blues  \\r\\nI wish you'd only just call me on the phone  \\r\\nThere ain't no doubt and I don't mean maybe  \\r\\nOoh, I just can't forget about you baby  \\r\\nAnd I can't stop thinkin' about your crazy love  \\r\\n  \\r\\nCrazy love, crazy love  \\r\\nI love you baby  \\r\\nBut your too bad to tame  \\r\\nCrazy love, crazy love  \\r\\nYou got it all  \\r\\n\\r\\n\""
      ]
     },
     "execution_count": 138,
     "metadata": {},
     "output_type": "execute_result"
    }
   ],
   "source": [
    "music_df['text'][0]"
   ]
  },
  {
   "cell_type": "code",
   "execution_count": 139,
   "id": "cc2babb9-c9f9-45ae-9e34-9cfd20e9dcf7",
   "metadata": {},
   "outputs": [
    {
     "data": {
      "text/plain": [
       "(3000, 3)"
      ]
     },
     "execution_count": 139,
     "metadata": {},
     "output_type": "execute_result"
    }
   ],
   "source": [
    "music_df.shape"
   ]
  },
  {
   "cell_type": "markdown",
   "id": "10b4781c-f4d4-43de-b2cb-f70692131e13",
   "metadata": {},
   "source": [
    "# Text Cleaning / Text Preprocessing"
   ]
  },
  {
   "cell_type": "code",
   "execution_count": 140,
   "id": "51d51471-822d-47ef-a839-5e0900a0a854",
   "metadata": {},
   "outputs": [
    {
     "data": {
      "text/plain": [
       "0       somewhere down on a back street  \\r way down d...\n",
       "1       we walked away before, there were too many sto...\n",
       "2       one light for direction  \\r through the valley...\n",
       "3       one two, one two three  \\r well, i went and ga...\n",
       "4       i never been too good at doing right  \\r done ...\n",
       "                              ...                        \n",
       "2995    ev'rything i want i got , and i got you girl  ...\n",
       "2996    you stood in the belltower,  \\r but now you're...\n",
       "2997    floating along in the middle of the sea  \\r th...\n",
       "2998    it's just a ball of dust  \\r underneath my fee...\n",
       "2999    dressed in purple velvets  \\r with a flower in...\n",
       "Name: text, Length: 3000, dtype: object"
      ]
     },
     "execution_count": 140,
     "metadata": {},
     "output_type": "execute_result"
    }
   ],
   "source": [
    "music_df['text'] = music_df['text'].str.lower().replace(r'^\\w\\s', ' ').replace(r'\\n', ' ', regex = True)\n",
    "music_df['text']"
   ]
  },
  {
   "cell_type": "code",
   "execution_count": 155,
   "id": "caecfc34-60cc-4901-a2f1-e2cb21d5f699",
   "metadata": {
    "scrolled": true
   },
   "outputs": [
    {
     "data": {
      "text/html": [
       "<div>\n",
       "<style scoped>\n",
       "    .dataframe tbody tr th:only-of-type {\n",
       "        vertical-align: middle;\n",
       "    }\n",
       "\n",
       "    .dataframe tbody tr th {\n",
       "        vertical-align: top;\n",
       "    }\n",
       "\n",
       "    .dataframe thead th {\n",
       "        text-align: right;\n",
       "    }\n",
       "</style>\n",
       "<table border=\"1\" class=\"dataframe\">\n",
       "  <thead>\n",
       "    <tr style=\"text-align: right;\">\n",
       "      <th></th>\n",
       "      <th>artist</th>\n",
       "      <th>song</th>\n",
       "      <th>text</th>\n",
       "    </tr>\n",
       "  </thead>\n",
       "  <tbody>\n",
       "    <tr>\n",
       "      <th>0</th>\n",
       "      <td>Allman Brothers Band</td>\n",
       "      <td>Crazy Love</td>\n",
       "      <td>somewhere down on a back street  \\r way down d...</td>\n",
       "    </tr>\n",
       "    <tr>\n",
       "      <th>1</th>\n",
       "      <td>Heart</td>\n",
       "      <td>Strong, Strong Wind</td>\n",
       "      <td>we walked away before, there were too many sto...</td>\n",
       "    </tr>\n",
       "    <tr>\n",
       "      <th>2</th>\n",
       "      <td>David Guetta</td>\n",
       "      <td>One Voice</td>\n",
       "      <td>one light for direction  \\r through the valley...</td>\n",
       "    </tr>\n",
       "    <tr>\n",
       "      <th>3</th>\n",
       "      <td>Bonnie Raitt</td>\n",
       "      <td>No Gettin' Over You</td>\n",
       "      <td>one two, one two three  \\r well, i went and ga...</td>\n",
       "    </tr>\n",
       "    <tr>\n",
       "      <th>4</th>\n",
       "      <td>Randy Travis</td>\n",
       "      <td>Gonna Walk That Line</td>\n",
       "      <td>i never been too good at doing right  \\r done ...</td>\n",
       "    </tr>\n",
       "    <tr>\n",
       "      <th>5</th>\n",
       "      <td>John Legend</td>\n",
       "      <td>Stay With You</td>\n",
       "      <td>we've been together for a while now  \\r we're ...</td>\n",
       "    </tr>\n",
       "    <tr>\n",
       "      <th>6</th>\n",
       "      <td>Nina Simone</td>\n",
       "      <td>I Put A Spell On You</td>\n",
       "      <td>by jay hawkins  \\r performed by marilyn manson...</td>\n",
       "    </tr>\n",
       "    <tr>\n",
       "      <th>7</th>\n",
       "      <td>Cake</td>\n",
       "      <td>The Winter</td>\n",
       "      <td>the winter's chill chilled me to the bone this...</td>\n",
       "    </tr>\n",
       "    <tr>\n",
       "      <th>8</th>\n",
       "      <td>Westlife</td>\n",
       "      <td>Miss You Nights</td>\n",
       "      <td>[shane:]  \\r i've had many times i can tell yo...</td>\n",
       "    </tr>\n",
       "    <tr>\n",
       "      <th>9</th>\n",
       "      <td>Westlife</td>\n",
       "      <td>I Won't Let You Down</td>\n",
       "      <td>bryan:  \\r your life's hard enough  \\r and you...</td>\n",
       "    </tr>\n",
       "    <tr>\n",
       "      <th>10</th>\n",
       "      <td>Michael Jackson</td>\n",
       "      <td>Baby Be Mine</td>\n",
       "      <td>i don't need no dreams when i'm by your side  ...</td>\n",
       "    </tr>\n",
       "    <tr>\n",
       "      <th>11</th>\n",
       "      <td>Fiona Apple</td>\n",
       "      <td>Get Gone</td>\n",
       "      <td>how many times do i have to say  \\r to get awa...</td>\n",
       "    </tr>\n",
       "    <tr>\n",
       "      <th>12</th>\n",
       "      <td>Ray Charles</td>\n",
       "      <td>Sticks And Stones</td>\n",
       "      <td>people talkin' tryin' to break us up  \\r why w...</td>\n",
       "    </tr>\n",
       "    <tr>\n",
       "      <th>13</th>\n",
       "      <td>Kate Bush</td>\n",
       "      <td>The Kick Inside</td>\n",
       "      <td>i've pulled down my lace and the chintz.  \\r o...</td>\n",
       "    </tr>\n",
       "    <tr>\n",
       "      <th>14</th>\n",
       "      <td>Alice Cooper</td>\n",
       "      <td>My God</td>\n",
       "      <td>if i should find myself in blackest night,  \\r...</td>\n",
       "    </tr>\n",
       "    <tr>\n",
       "      <th>15</th>\n",
       "      <td>Robbie Williams</td>\n",
       "      <td>Back For Good</td>\n",
       "      <td>\"gonna do something you might know,  \\r but do...</td>\n",
       "    </tr>\n",
       "    <tr>\n",
       "      <th>16</th>\n",
       "      <td>Bette Midler</td>\n",
       "      <td>Just My Imagination</td>\n",
       "      <td>each day through my window  \\r i watch him as ...</td>\n",
       "    </tr>\n",
       "    <tr>\n",
       "      <th>17</th>\n",
       "      <td>Frank Sinatra</td>\n",
       "      <td>But Not For Me</td>\n",
       "      <td>they're writing songs of love but not for me  ...</td>\n",
       "    </tr>\n",
       "    <tr>\n",
       "      <th>18</th>\n",
       "      <td>Doobie Brothers</td>\n",
       "      <td>Evil Woman</td>\n",
       "      <td>well, the light's turnin' gray, nearly every d...</td>\n",
       "    </tr>\n",
       "    <tr>\n",
       "      <th>19</th>\n",
       "      <td>Halloween</td>\n",
       "      <td>Monster Mash</td>\n",
       "      <td>i was working in the lab late one night  \\r wh...</td>\n",
       "    </tr>\n",
       "  </tbody>\n",
       "</table>\n",
       "</div>"
      ],
      "text/plain": [
       "                  artist                  song  \\\n",
       "0   Allman Brothers Band            Crazy Love   \n",
       "1                  Heart   Strong, Strong Wind   \n",
       "2           David Guetta             One Voice   \n",
       "3           Bonnie Raitt   No Gettin' Over You   \n",
       "4           Randy Travis  Gonna Walk That Line   \n",
       "5            John Legend         Stay With You   \n",
       "6            Nina Simone  I Put A Spell On You   \n",
       "7                   Cake            The Winter   \n",
       "8               Westlife       Miss You Nights   \n",
       "9               Westlife  I Won't Let You Down   \n",
       "10       Michael Jackson          Baby Be Mine   \n",
       "11           Fiona Apple              Get Gone   \n",
       "12           Ray Charles     Sticks And Stones   \n",
       "13             Kate Bush       The Kick Inside   \n",
       "14          Alice Cooper                My God   \n",
       "15       Robbie Williams         Back For Good   \n",
       "16          Bette Midler   Just My Imagination   \n",
       "17         Frank Sinatra        But Not For Me   \n",
       "18       Doobie Brothers            Evil Woman   \n",
       "19             Halloween          Monster Mash   \n",
       "\n",
       "                                                 text  \n",
       "0   somewhere down on a back street  \\r way down d...  \n",
       "1   we walked away before, there were too many sto...  \n",
       "2   one light for direction  \\r through the valley...  \n",
       "3   one two, one two three  \\r well, i went and ga...  \n",
       "4   i never been too good at doing right  \\r done ...  \n",
       "5   we've been together for a while now  \\r we're ...  \n",
       "6   by jay hawkins  \\r performed by marilyn manson...  \n",
       "7   the winter's chill chilled me to the bone this...  \n",
       "8   [shane:]  \\r i've had many times i can tell yo...  \n",
       "9   bryan:  \\r your life's hard enough  \\r and you...  \n",
       "10  i don't need no dreams when i'm by your side  ...  \n",
       "11  how many times do i have to say  \\r to get awa...  \n",
       "12  people talkin' tryin' to break us up  \\r why w...  \n",
       "13  i've pulled down my lace and the chintz.  \\r o...  \n",
       "14  if i should find myself in blackest night,  \\r...  \n",
       "15  \"gonna do something you might know,  \\r but do...  \n",
       "16  each day through my window  \\r i watch him as ...  \n",
       "17  they're writing songs of love but not for me  ...  \n",
       "18  well, the light's turnin' gray, nearly every d...  \n",
       "19  i was working in the lab late one night  \\r wh...  "
      ]
     },
     "execution_count": 155,
     "metadata": {},
     "output_type": "execute_result"
    }
   ],
   "source": [
    "music_df.head(20)"
   ]
  },
  {
   "cell_type": "code",
   "execution_count": 156,
   "id": "62f3409e-df1c-488f-a381-e9dbebadfa98",
   "metadata": {},
   "outputs": [
    {
     "name": "stderr",
     "output_type": "stream",
     "text": [
      "[nltk_data] Downloading package punkt to\n",
      "[nltk_data]     C:\\Users\\ACER\\AppData\\Roaming\\nltk_data...\n",
      "[nltk_data]   Package punkt is already up-to-date!\n"
     ]
    },
    {
     "data": {
      "text/plain": [
       "True"
      ]
     },
     "execution_count": 156,
     "metadata": {},
     "output_type": "execute_result"
    }
   ],
   "source": [
    "import nltk\n",
    "from nltk.stem.porter import PorterStemmer\n",
    "nltk.download('punkt')"
   ]
  },
  {
   "cell_type": "code",
   "execution_count": 157,
   "id": "590dcb81-6ae0-4b1a-b26e-814ad8356c70",
   "metadata": {},
   "outputs": [],
   "source": [
    "stemmer = PorterStemmer()"
   ]
  },
  {
   "cell_type": "code",
   "execution_count": 158,
   "id": "d60a2c53-3d40-45cb-aba7-d6b2627b651b",
   "metadata": {},
   "outputs": [],
   "source": [
    "def token(txt):\n",
    "    token = nltk.word_tokenize(txt)\n",
    "    a = [stemmer.stem(w) for w in token]\n",
    "    return \" \".join(a)"
   ]
  },
  {
   "cell_type": "code",
   "execution_count": 160,
   "id": "e9332582-79cc-4fb3-a133-566d47028e48",
   "metadata": {},
   "outputs": [
    {
     "data": {
      "text/plain": [
       "'you are beauti , beauti'"
      ]
     },
     "execution_count": 160,
     "metadata": {},
     "output_type": "execute_result"
    }
   ],
   "source": [
    "token(\"you are beautiful, beauty\")"
   ]
  },
  {
   "cell_type": "code",
   "execution_count": 161,
   "id": "ba575e6e-0be1-45f3-ada5-a40fb4cbfedb",
   "metadata": {},
   "outputs": [
    {
     "data": {
      "text/plain": [
       "0       somewher down on a back street way down deep i...\n",
       "1       we walk away befor , there were too mani storm...\n",
       "2       one light for direct through the valley of nig...\n",
       "3       one two , one two three well , i went and gave...\n",
       "4       i never been too good at do right done mostli ...\n",
       "                              ...                        \n",
       "2995    ev'ryth i want i got , and i got you girl you ...\n",
       "2996    you stood in the belltow , but now you 're gon...\n",
       "2997    float along in the middl of the sea that 's wh...\n",
       "2998    it 's just a ball of dust underneath my feet i...\n",
       "2999    dress in purpl velvet with a flower in her hai...\n",
       "Name: text, Length: 3000, dtype: object"
      ]
     },
     "execution_count": 161,
     "metadata": {},
     "output_type": "execute_result"
    }
   ],
   "source": [
    "music_df['text'].apply(lambda x: token(x))"
   ]
  },
  {
   "cell_type": "code",
   "execution_count": 147,
   "id": "8801f785-084d-4319-8348-4a2816da88cf",
   "metadata": {},
   "outputs": [],
   "source": [
    "from sklearn.feature_extraction.text import TfidfVectorizer\n",
    "from sklearn.metrics.pairwise import cosine_similarity"
   ]
  },
  {
   "cell_type": "code",
   "execution_count": 148,
   "id": "2b939910-995c-4ec9-87e8-11d1501ecd2c",
   "metadata": {},
   "outputs": [],
   "source": [
    "tfid = TfidfVectorizer(analyzer = 'word', stop_words = 'english')"
   ]
  },
  {
   "cell_type": "code",
   "execution_count": 149,
   "id": "f2853beb-f96b-4515-bc3e-2b3550df1dc3",
   "metadata": {},
   "outputs": [],
   "source": [
    "matrix = tfid.fit_transform(music_df['text'])"
   ]
  },
  {
   "cell_type": "code",
   "execution_count": 150,
   "id": "e1d523ae-9bd8-4650-9ab6-1a8966f8b6ab",
   "metadata": {},
   "outputs": [
    {
     "data": {
      "text/plain": [
       "<3000x18218 sparse matrix of type '<class 'numpy.float64'>'\n",
       "\twith 160136 stored elements in Compressed Sparse Row format>"
      ]
     },
     "execution_count": 150,
     "metadata": {},
     "output_type": "execute_result"
    }
   ],
   "source": [
    "matrix"
   ]
  },
  {
   "cell_type": "code",
   "execution_count": 151,
   "id": "e547ebc2-ec9c-485b-bb17-a9679e5619ed",
   "metadata": {},
   "outputs": [],
   "source": [
    "similer = cosine_similarity(matrix)"
   ]
  },
  {
   "cell_type": "code",
   "execution_count": 152,
   "id": "39b28004-45cf-470f-9f0a-1c71cc6fa4dd",
   "metadata": {},
   "outputs": [
    {
     "data": {
      "text/plain": [
       "array([1.        , 0.00662733, 0.03989745, ..., 0.06041697, 0.01235437,\n",
       "       0.01669994])"
      ]
     },
     "execution_count": 152,
     "metadata": {},
     "output_type": "execute_result"
    }
   ],
   "source": [
    "similer[0]"
   ]
  },
  {
   "cell_type": "code",
   "execution_count": 153,
   "id": "073c81a7-5f2b-4fc2-9f37-77eb2eb8e529",
   "metadata": {},
   "outputs": [
    {
     "data": {
      "text/html": [
       "<div>\n",
       "<style scoped>\n",
       "    .dataframe tbody tr th:only-of-type {\n",
       "        vertical-align: middle;\n",
       "    }\n",
       "\n",
       "    .dataframe tbody tr th {\n",
       "        vertical-align: top;\n",
       "    }\n",
       "\n",
       "    .dataframe thead th {\n",
       "        text-align: right;\n",
       "    }\n",
       "</style>\n",
       "<table border=\"1\" class=\"dataframe\">\n",
       "  <thead>\n",
       "    <tr style=\"text-align: right;\">\n",
       "      <th></th>\n",
       "      <th>artist</th>\n",
       "      <th>song</th>\n",
       "      <th>text</th>\n",
       "    </tr>\n",
       "  </thead>\n",
       "  <tbody>\n",
       "  </tbody>\n",
       "</table>\n",
       "</div>"
      ],
      "text/plain": [
       "Empty DataFrame\n",
       "Columns: [artist, song, text]\n",
       "Index: []"
      ]
     },
     "execution_count": 153,
     "metadata": {},
     "output_type": "execute_result"
    }
   ],
   "source": [
    "# get details of specified song\n",
    "music_df[music_df['song'] == 'Just My Imagination']"
   ]
  },
  {
   "cell_type": "code",
   "execution_count": 162,
   "id": "093d096d-1f37-44cd-9fa0-a1dc60cc2cd2",
   "metadata": {},
   "outputs": [
    {
     "data": {
      "text/plain": [
       "16"
      ]
     },
     "execution_count": 162,
     "metadata": {},
     "output_type": "execute_result"
    }
   ],
   "source": [
    "# get id of specified song\n",
    "music_df[music_df['song'] == 'Just My Imagination'].index[0]"
   ]
  },
  {
   "cell_type": "markdown",
   "id": "c1b545c1-3a6b-474d-99e3-89b0e862cb4c",
   "metadata": {},
   "source": [
    "# Recommender Function"
   ]
  },
  {
   "cell_type": "code",
   "execution_count": 163,
   "id": "18816e92-8793-424f-b853-0004ab7f1be4",
   "metadata": {},
   "outputs": [],
   "source": [
    "def recommender(song_name):\n",
    "    idx = music_df[music_df['song'] == song_name].index[0]\n",
    "    distance = sorted(list(enumerate(similer[idx])), reverse = True, key = lambda x:x[1])\n",
    "    song = []\n",
    "    for s_id in distance[1:20]:\n",
    "        song.append(music_df.iloc[s_id[0]].song)\n",
    "    return song"
   ]
  },
  {
   "cell_type": "code",
   "execution_count": 164,
   "id": "c7870116-b190-426e-80f4-b861b2eddd85",
   "metadata": {},
   "outputs": [
    {
     "data": {
      "text/plain": [
       "['I Hear Your Voice',\n",
       " \"There's\",\n",
       " 'Man Of A Thousand Faces',\n",
       " 'If You Go Away',\n",
       " 'If You Go Away',\n",
       " 'Right Away',\n",
       " 'Way Away',\n",
       " 'Dark Side',\n",
       " 'Dance The Night Away',\n",
       " 'Talk To Me',\n",
       " 'Throwing It All Away',\n",
       " 'Voices',\n",
       " \"Don't Walk Away\",\n",
       " 'Five Hundred Miles Away From Home',\n",
       " 'Dynamite',\n",
       " 'Lovers',\n",
       " 'Why Should I',\n",
       " 'Interstate',\n",
       " 'I Got Love For You']"
      ]
     },
     "execution_count": 164,
     "metadata": {},
     "output_type": "execute_result"
    }
   ],
   "source": [
    "recommender(\"One Voice\")"
   ]
  },
  {
   "cell_type": "code",
   "execution_count": null,
   "id": "c9a2906d-d426-4f4d-9643-3f1a40ec78fe",
   "metadata": {},
   "outputs": [],
   "source": []
  }
 ],
 "metadata": {
  "kernelspec": {
   "display_name": "Python 3 (ipykernel)",
   "language": "python",
   "name": "python3"
  },
  "language_info": {
   "codemirror_mode": {
    "name": "ipython",
    "version": 3
   },
   "file_extension": ".py",
   "mimetype": "text/x-python",
   "name": "python",
   "nbconvert_exporter": "python",
   "pygments_lexer": "ipython3",
   "version": "3.11.7"
  }
 },
 "nbformat": 4,
 "nbformat_minor": 5
}
